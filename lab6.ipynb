{
 "cells": [
  {
   "cell_type": "markdown",
   "id": "fdeff819",
   "metadata": {},
   "source": [
    "# Sinh Viên thực hiện Lab 6 ở Đây"
   ]
  },
  {
   "cell_type": "markdown",
   "id": "acc5d7dc",
   "metadata": {},
   "source": [
    "## Lab 6 - Bài 1"
   ]
  },
  {
   "cell_type": "code",
   "execution_count": 3,
   "id": "001e0507",
   "metadata": {},
   "outputs": [
    {
     "ename": "KeyboardInterrupt",
     "evalue": "Interrupted by user",
     "output_type": "error",
     "traceback": [
      "\u001b[31m---------------------------------------------------------------------------\u001b[39m",
      "\u001b[31mKeyboardInterrupt\u001b[39m                         Traceback (most recent call last)",
      "\u001b[36mCell\u001b[39m\u001b[36m \u001b[39m\u001b[32mIn[3]\u001b[39m\u001b[32m, line 7\u001b[39m\n\u001b[32m      5\u001b[39m cn1 = ChuNhat(dai1, rong1)\n\u001b[32m      6\u001b[39m dai2 = \u001b[38;5;28mfloat\u001b[39m(\u001b[38;5;28minput\u001b[39m(\u001b[33m\"\u001b[39m\u001b[33mNhập chiều dài: \u001b[39m\u001b[33m\"\u001b[39m))\n\u001b[32m----> \u001b[39m\u001b[32m7\u001b[39m rong2 = \u001b[38;5;28mfloat\u001b[39m(\u001b[38;5;28;43minput\u001b[39;49m\u001b[43m(\u001b[49m\u001b[33;43m\"\u001b[39;49m\u001b[33;43mNhập chiều rộng: \u001b[39;49m\u001b[33;43m\"\u001b[39;49m\u001b[43m)\u001b[49m)\n\u001b[32m      8\u001b[39m cn2 = ChuNhat(dai2, rong2)\n\u001b[32m      9\u001b[39m canh = \u001b[38;5;28mfloat\u001b[39m(\u001b[38;5;28minput\u001b[39m(\u001b[33m\"\u001b[39m\u001b[33mNhập cạnh: \u001b[39m\u001b[33m\"\u001b[39m))\n",
      "\u001b[36mFile \u001b[39m\u001b[32m~\\AppData\\Roaming\\Python\\Python313\\site-packages\\ipykernel\\kernelbase.py:1275\u001b[39m, in \u001b[36mKernel.raw_input\u001b[39m\u001b[34m(self, prompt)\u001b[39m\n\u001b[32m   1273\u001b[39m     msg = \u001b[33m\"\u001b[39m\u001b[33mraw_input was called, but this frontend does not support input requests.\u001b[39m\u001b[33m\"\u001b[39m\n\u001b[32m   1274\u001b[39m     \u001b[38;5;28;01mraise\u001b[39;00m StdinNotImplementedError(msg)\n\u001b[32m-> \u001b[39m\u001b[32m1275\u001b[39m \u001b[38;5;28;01mreturn\u001b[39;00m \u001b[38;5;28;43mself\u001b[39;49m\u001b[43m.\u001b[49m\u001b[43m_input_request\u001b[49m\u001b[43m(\u001b[49m\n\u001b[32m   1276\u001b[39m \u001b[43m    \u001b[49m\u001b[38;5;28;43mstr\u001b[39;49m\u001b[43m(\u001b[49m\u001b[43mprompt\u001b[49m\u001b[43m)\u001b[49m\u001b[43m,\u001b[49m\n\u001b[32m   1277\u001b[39m \u001b[43m    \u001b[49m\u001b[38;5;28;43mself\u001b[39;49m\u001b[43m.\u001b[49m\u001b[43m_parent_ident\u001b[49m\u001b[43m[\u001b[49m\u001b[33;43m\"\u001b[39;49m\u001b[33;43mshell\u001b[39;49m\u001b[33;43m\"\u001b[39;49m\u001b[43m]\u001b[49m\u001b[43m,\u001b[49m\n\u001b[32m   1278\u001b[39m \u001b[43m    \u001b[49m\u001b[38;5;28;43mself\u001b[39;49m\u001b[43m.\u001b[49m\u001b[43mget_parent\u001b[49m\u001b[43m(\u001b[49m\u001b[33;43m\"\u001b[39;49m\u001b[33;43mshell\u001b[39;49m\u001b[33;43m\"\u001b[39;49m\u001b[43m)\u001b[49m\u001b[43m,\u001b[49m\n\u001b[32m   1279\u001b[39m \u001b[43m    \u001b[49m\u001b[43mpassword\u001b[49m\u001b[43m=\u001b[49m\u001b[38;5;28;43;01mFalse\u001b[39;49;00m\u001b[43m,\u001b[49m\n\u001b[32m   1280\u001b[39m \u001b[43m\u001b[49m\u001b[43m)\u001b[49m\n",
      "\u001b[36mFile \u001b[39m\u001b[32m~\\AppData\\Roaming\\Python\\Python313\\site-packages\\ipykernel\\kernelbase.py:1320\u001b[39m, in \u001b[36mKernel._input_request\u001b[39m\u001b[34m(self, prompt, ident, parent, password)\u001b[39m\n\u001b[32m   1317\u001b[39m \u001b[38;5;28;01mexcept\u001b[39;00m \u001b[38;5;167;01mKeyboardInterrupt\u001b[39;00m:\n\u001b[32m   1318\u001b[39m     \u001b[38;5;66;03m# re-raise KeyboardInterrupt, to truncate traceback\u001b[39;00m\n\u001b[32m   1319\u001b[39m     msg = \u001b[33m\"\u001b[39m\u001b[33mInterrupted by user\u001b[39m\u001b[33m\"\u001b[39m\n\u001b[32m-> \u001b[39m\u001b[32m1320\u001b[39m     \u001b[38;5;28;01mraise\u001b[39;00m \u001b[38;5;167;01mKeyboardInterrupt\u001b[39;00m(msg) \u001b[38;5;28;01mfrom\u001b[39;00m\u001b[38;5;250m \u001b[39m\u001b[38;5;28;01mNone\u001b[39;00m\n\u001b[32m   1321\u001b[39m \u001b[38;5;28;01mexcept\u001b[39;00m \u001b[38;5;167;01mException\u001b[39;00m:\n\u001b[32m   1322\u001b[39m     \u001b[38;5;28mself\u001b[39m.log.warning(\u001b[33m\"\u001b[39m\u001b[33mInvalid Message:\u001b[39m\u001b[33m\"\u001b[39m, exc_info=\u001b[38;5;28;01mTrue\u001b[39;00m)\n",
      "\u001b[31mKeyboardInterrupt\u001b[39m: Interrupted by user"
     ]
    }
   ],
   "source": [
    "# Code lab 6 bài 1 ở đây\n",
    "from hinh import *\n",
    "dai1 = float(input(\"Nhập chiều dài: \"))\n",
    "rong1 = float(input(\"Nhập chiều rộng: \"))\n",
    "cn1 = ChuNhat(dai1, rong1)\n",
    "dai2 = float(input(\"Nhập chiều dài: \"))\n",
    "rong2 = float(input(\"Nhập chiều rộng: \"))\n",
    "cn2 = ChuNhat(dai2, rong2)\n",
    "canh = float(input(\"Nhập cạnh: \"))\n",
    "vu = HinhVuong(canh)\n",
    "print(\"Hình chữ nhật 1\")\n",
    "cn1.xuat_tt()\n",
    "print(\"\\nHình chữ nhật 2\")\n",
    "cn2.xuat_tt()\n",
    "print(\"\\nHình vuông\")\n",
    "vu.xuat_tt()\n"
   ]
  },
  {
   "cell_type": "markdown",
   "id": "c0835310",
   "metadata": {},
   "source": [
    "## Lab 6 - Bài 2"
   ]
  },
  {
   "cell_type": "code",
   "execution_count": null,
   "id": "fa9cb39f",
   "metadata": {},
   "outputs": [],
   "source": [
    "#Code lab 6  bài 2 ở đây\n",
    "from quanlysinhvien import *\n",
    "\n",
    "ql = QuanLySinhVien()\n",
    "menu =\"\"\"\n",
    "=========== MENU ===========\n",
    "1. Nhập danh sách sinh viên\n",
    "2. Xuất danh sách sinh viên\n",
    "3. Xuất danh sách sinh viên giỏi\n",
    "4. Sắp xếp danh sách theo điểm\n",
    "5. Kết thúc\n",
    "============================\n",
    "\"\"\"\n",
    "while True:\n",
    "    print(menu)\n",
    "    chon = input(\"Chọn chức năng (1-5): \")\n",
    "    if chon == \"1\":\n",
    "        ql.nhap_dssv()\n",
    "        pass\n",
    "    elif chon == \"2\":\n",
    "        ql.xuat_dssv()\n",
    "    elif chon == \"3\":\n",
    "        ql.xuat_dssv_gioi()\n",
    "    elif chon == \"4\":\n",
    "        ql.sap_xep_dssv()\n",
    "    elif chon == \"5\":\n",
    "        print(\"Kết thúc chương trình!\")\n",
    "        break\n",
    "    else:\n",
    "        print(\"Lựa chọn không hợp lệ, vui lòng nhập lại!\")\n",
    "\n",
    "\n"
   ]
  },
  {
   "cell_type": "markdown",
   "id": "0f2483fe",
   "metadata": {},
   "source": [
    "## Lab 6 - Bài 3"
   ]
  },
  {
   "cell_type": "code",
   "execution_count": null,
   "id": "7034990b",
   "metadata": {},
   "outputs": [],
   "source": [
    "# Code lab 6  bài 3 ở đây\n",
    "from sinhvienpoly import SinhVienIT, SinhVienBiz\n",
    "\n",
    "sv_it = SinhVienIT(\"Trang Thuận Hưng\", \"Xử lý dữ liệu\", diem_java=9, diem_html=8, diem_css=7)\n",
    "sv_biz = SinhVienBiz(\"Hưng Thuận Trang\", \"Kinh tế\", diem_marketing=8, diem_sales=9)\n",
    "\n",
    "print(\"THÔNG TIN SINH VIÊN IT\")\n",
    "print(sv_it)\n",
    "\n",
    "print(\"\\nTHÔNG TIN SINH VIÊN BIZ\")\n",
    "print(sv_biz)\n"
   ]
  },
  {
   "cell_type": "markdown",
   "id": "d36ea3d3",
   "metadata": {},
   "source": [
    "## Lab 6 - Bài 4"
   ]
  },
  {
   "cell_type": "code",
   "execution_count": null,
   "id": "efa0dd0e",
   "metadata": {},
   "outputs": [],
   "source": [
    "#Code lab 6  bài 4 ở đây\n",
    "from quanlysinhvien import *\n",
    "\n",
    "ql = QuanLySinhVien()\n",
    "menu =\"\"\"\n",
    "=========== MENU ===========\n",
    "1. Nhập danh sách sinh viên\n",
    "2. Xuất danh sách sinh viên\n",
    "3. Xuất danh sách sinh viên giỏi\n",
    "4. Sắp xếp danh sách theo điểm\n",
    "5. Kết thúc\n",
    "============================\n",
    "\"\"\"\n",
    "while True:\n",
    "    print(menu)\n",
    "    chon = input(\"Chọn chức năng (1-5): \")\n",
    "    if chon == \"1\":\n",
    "        ql.nhap_dssv()\n",
    "        pass\n",
    "    elif chon == \"2\":\n",
    "        ql.xuat_dssv()\n",
    "    elif chon == \"3\":\n",
    "        ql.xuat_dssv_gioi()\n",
    "    elif chon == \"4\":\n",
    "        ql.sap_xep_dssv()\n",
    "    elif chon == \"5\":\n",
    "        print(\"Kết thúc chương trình!\")\n",
    "        break\n",
    "    else:\n",
    "        print(\"Lựa chọn không hợp lệ, vui lòng nhập lại!\")\n",
    "\n",
    "\n"
   ]
  },
  {
   "cell_type": "markdown",
   "id": "e2b41d4a",
   "metadata": {},
   "source": [
    "## Lab 6 - Bài 5: bài tập làm thêm"
   ]
  },
  {
   "cell_type": "code",
   "execution_count": null,
   "id": "0e0172f7",
   "metadata": {},
   "outputs": [
    {
     "name": "stdout",
     "output_type": "stream",
     "text": [
      "--- KHỞI ĐỘNG HỆ THỐNG QUẢN LÝ TÀI KHOẢN ---\n",
      "--- CHƯƠNG TRÌNH KẾT THÚC ---\n"
     ]
    }
   ],
   "source": [
    "from quan_ly_tai_khoan import main, TaiKhoan, docTaiKhoanTuCSV, hienThiBang\n",
    "\n",
    "print(\"--- KHỞI ĐỘNG HỆ THỐNG QUẢN LÝ TÀI KHOẢN ---\")\n",
    "main()   \n",
    "print(\"--- CHƯƠNG TRÌNH KẾT THÚC ---\")\n"
   ]
  }
 ],
 "metadata": {
  "kernelspec": {
   "display_name": "Python 3",
   "language": "python",
   "name": "python3"
  },
  "language_info": {
   "codemirror_mode": {
    "name": "ipython",
    "version": 3
   },
   "file_extension": ".py",
   "mimetype": "text/x-python",
   "name": "python",
   "nbconvert_exporter": "python",
   "pygments_lexer": "ipython3",
   "version": "3.13.7"
  }
 },
 "nbformat": 4,
 "nbformat_minor": 5
}
