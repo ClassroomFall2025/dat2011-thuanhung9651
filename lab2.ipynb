{
 "cells": [
  {
   "cell_type": "markdown",
   "id": "fdeff819",
   "metadata": {},
   "source": [
    "# Sinh Viên thực hiện Lab 2 ở Đây"
   ]
  },
  {
   "cell_type": "markdown",
   "id": "acc5d7dc",
   "metadata": {},
   "source": [
    "## Lab 2 - Bài 1"
   ]
  },
  {
   "cell_type": "code",
   "execution_count": 1,
   "id": "001e0507",
   "metadata": {},
   "outputs": [
    {
     "name": "stdout",
     "output_type": "stream",
     "text": [
      "Kiếp con người mỏng manh như là gió\n",
      "Sống trên đời có được mấy lần vui\n",
      "Sao phải đau mà không thể mỉm cười\n",
      "Gắng buông nỗi ngậm ngùi nơi quá khứ\n",
      "\n",
      "Nếu có thể sao ta không làm thử\n",
      "Để tâm hồn khắc hai chữ bình an\n",
      "Cho đôi chân bước thanh thản nhẹ nhàng\n",
      "Dù hướng đời có muôn ngàn đá sỏi\n",
      "\n",
      "\n"
     ]
    }
   ],
   "source": [
    "BaiTho= '''Kiếp con người mỏng manh như là gió\n",
    "Sống trên đời có được mấy lần vui\n",
    "Sao phải đau mà không thể mỉm cười\n",
    "Gắng buông nỗi ngậm ngùi nơi quá khứ\n",
    "\n",
    "Nếu có thể sao ta không làm thử\n",
    "Để tâm hồn khắc hai chữ bình an\n",
    "Cho đôi chân bước thanh thản nhẹ nhàng\n",
    "Dù hướng đời có muôn ngàn đá sỏi\n",
    "'''\n",
    "print(BaiTho)\n",
    "\n",
    "# timkiem= BaiTho.find('con người')\n",
    "# print(timkiem)\n",
    "# tim= 'con người' in BaiTho\n",
    "# print(tim)\n",
    "# cau_dau= len('con người') + timkiem\n",
    "# BaiTho[timkiem:cau_dau]\n",
    "\n",
    "# timkiem=BaiTho.find('ngậm ngùi')\n",
    "# print(timkiem)\n",
    "# tim='ngậm ngùi' in BaiTho\n",
    "# print(tim)\n",
    "# cau_dau=len('ngậm ngùi') + timkiem\n",
    "# BaiTho[timkiem:cau_dau]\n",
    "\n",
    "# timkiem=BaiTho.find('ngậm ngùi')\n",
    "# cau_dau=len('ngậm ngùi') + timkiem\n",
    "# BaiTho[timkiem:cau_dau]\n",
    "\n",
    "# tu_can_tim= input('Nhập từ cần tìm: ')\n",
    "# timkiem=BaiTho.find(tu_can_tim)\n",
    "# kq=BaiTho[timkiem:timkiem+len(tu_can_tim)]\n",
    "# print(kq)\n",
    "\n",
    "# search_string= input('Nhập từ cần tìm: ')\n",
    "# ketthuc= len(search_string)\n",
    "# timkiem= BaiTho.find(search_string)\n",
    "# BaiTho[timkiem:timkiem+ketthuc]\n",
    "\n",
    "chuoi_timkiem= input('Nhập từ cần tìm: ')  \n",
    "chieu_dai= len(chuoi_timkiem)\n",
    "index_dautien=BaiTho.find(chuoi_timkiem)\n",
    "index_thuhai=index_dautien + chieu_dai\n",
    "print(BaiTho[index_dautien:index_thuhai])\n",
    "\n"
   ]
  },
  {
   "cell_type": "markdown",
   "id": "c0835310",
   "metadata": {},
   "source": [
    "## Lab 2 - Bài 2"
   ]
  },
  {
   "cell_type": "code",
   "execution_count": 1,
   "id": "fa9cb39f",
   "metadata": {},
   "outputs": [
    {
     "name": "stdout",
     "output_type": "stream",
     "text": [
      "hạnh phúc\n"
     ]
    }
   ],
   "source": [
    "BaiTho= '''Kiếp con người mỏng manh như là gió\n",
    "Sống trên đời có được mấy lần vui\n",
    "Sao phải đau mà không thể mỉm cười\n",
    "Gắng buông nỗi ngậm ngùi nơi quá khứ\n",
    "\n",
    "Nếu có thể sao ta không làm thử\n",
    "Để tâm hồn khắc hai chữ bình an\n",
    "Cho đôi chân bước thanh thản nhẹ nhàng\n",
    "Dù hướng đời có muôn ngàn đá sỏi\n",
    "'''\n",
    "tu_cu=\"bình an\"\n",
    "tu_moi=tu_cu.replace(\"bình an\",\"hạnh phúc\")\n",
    "print(tu_moi)\n",
    "# text = \"lập trình python rất dễ\"\n",
    "# index1=text.find('python')\n",
    "# len_python=len('python')\n",
    "# index2=index1 + len_python\n",
    "# ketqua=text[index1:index2]\n",
    "# #print(\"kết quả từ python trong text là:\", ketqua)\n",
    "# text= \"lập trình Python rất dễ\"\n",
    "# ketqua= \"Python\" in text\n",
    "# print(\"từ Python có trong text :?\", ketqua)\n",
    "\n"
   ]
  },
  {
   "cell_type": "markdown",
   "id": "0f2483fe",
   "metadata": {},
   "source": [
    "## Lab 2 - Bài 3"
   ]
  },
  {
   "cell_type": "code",
   "execution_count": null,
   "id": "7034990b",
   "metadata": {},
   "outputs": [
    {
     "name": "stdout",
     "output_type": "stream",
     "text": [
      "Phương trình có nghiệm x= -1.0\n"
     ]
    }
   ],
   "source": [
    "# a = 0\n",
    "# a != 0 -> x = -b/a\n",
    "# b = 0 -> Phương trình có vô số nghiệm\n",
    "# b != 0 -> Phương trình vô nghiệm\n",
    "a=float(input(\"Nhập số a: \"))\n",
    "b=float(input(\"Nhập số b: \"))\n",
    "if a==0:\n",
    "    if b==0:\n",
    "        print(\"Phương trình vô số nghiệm\")\n",
    "    else:\n",
    "        print(\"Phương trình vô nghiệm\")\n",
    "else:\n",
    "    x=-b/a\n",
    "    print(\"Phương trình có nghiệm x=\",x)\n",
    "    \n"
   ]
  },
  {
   "cell_type": "markdown",
   "id": "26199026",
   "metadata": {},
   "source": [
    "Lab 2 - Bài 4"
   ]
  },
  {
   "cell_type": "code",
   "execution_count": null,
   "id": "d2a3c6d0",
   "metadata": {},
   "outputs": [],
   "source": [
    "#Viết chương trình cho phép giải phương trình bậc hai trong đó các hệ số a, b và c nhập từ bàn phím.\n",
    "\n",
    "import math\n",
    "a = float(input(\"Nhập hệ số a: \"))\n",
    "b = float(input(\"Nhập hệ số b: \"))\n",
    "c = float(input(\"Nhập hệ số c: \"))\n",
    "\n",
    "if a == 0:\n",
    "    if b == 0:\n",
    "        if c == 0:\n",
    "            print(\"Phương trình vô số nghiệm\")\n",
    "        else:\n",
    "            print(\"Phương trình vô nghiệm\")\n",
    "    else:\n",
    "        x = -c / b\n",
    "        print(\"Phương trình có nghiệm x= \",x)\n",
    "else:\n",
    "    delta = b**2 - 4*a*c\n",
    "    if delta < 0:\n",
    "        print(\"Phương trình vô nghiệm\")\n",
    "    if delta == 0:\n",
    "        x = -b / (2*a)\n",
    "        print(\"Phương trình có nghiệm kép x= \",x)\n",
    "    else:\n",
    "        x1 = (-b + math.sqrt(delta)) / (2*a)\n",
    "        x2 = (-b - math.sqrt(delta)) / (2*a)\n",
    "        print(\"Phương trình có 2 nghiệm phân biệt: \")\n",
    "        print(\"x1= \",x1)\n",
    "        print(\"x2= \",x2)\n"
   ]
  },
  {
   "cell_type": "code",
   "execution_count": null,
   "id": "40b595c8",
   "metadata": {},
   "outputs": [],
   "source": [
    "# so1= float(input(\"Nhập số thứ nhất: \"))\n",
    "# so2= float(input(\"Nhập số thứ hai: \"))\n",
    "# if so1>so2:\n",
    "#     print(\"Số lớn nhất:\", so1)\n",
    "# else:\n",
    "#     print(\"Số lớn nhất:\", so2)\n",
    "\n",
    "so1= float(input(\"Nhập số thứ nhất: \"))\n",
    "so2= float(input(\"Nhập số thứ hai: \"))\n",
    "max = so1 if so1>so2 else so2\n",
    "print(\"Số lớn nhất trong 2 số là:\", max)"
   ]
  },
  {
   "cell_type": "code",
   "execution_count": 33,
   "id": "4c707ec1",
   "metadata": {},
   "outputs": [
    {
     "name": "stdout",
     "output_type": "stream",
     "text": [
      "Bạn đã đủ tuổi công dân\n",
      "Bạn thực hiện nghĩa vụ quân sự nếu là Nam\n",
      "Bạn được quyền sử dụng rượu bia\n"
     ]
    }
   ],
   "source": [
    "age = int (input(\"Nhập tuổi \"))\n",
    "if age >=18:\n",
    "    print(\"Bạn đã đủ tuổi công dân\")\n",
    "    print(\"Bạn thực hiện nghĩa vụ quân sự nếu là Nam\")\n",
    "    print(\"Bạn được quyền sử dụng rượu bia\")\n",
    "else:\n",
    "    print(\"Bạn vị thành niên\")\n",
    "    \n",
    "    \n",
    "    "
   ]
  },
  {
   "cell_type": "markdown",
   "id": "e2b41d4a",
   "metadata": {},
   "source": [
    "## Lab 2 - Bài 5: bài tập làm thêm"
   ]
  },
  {
   "cell_type": "code",
   "execution_count": null,
   "id": "0e0172f7",
   "metadata": {},
   "outputs": [
    {
     "name": "stdout",
     "output_type": "stream",
     "text": [
      "Thương của hai 5.0 / 5.0 = 1.0\n"
     ]
    }
   ],
   "source": [
    "# so1=float(input(\"Nhập số thứ nhất:\"))\n",
    "# so2=float(input(\"Nhập số thứ hai:\"))\n",
    "# toantu=input(\"Nhập phép toán cần tính:+,-<,*,/:\")\n",
    "# if toantu==\"+\":\n",
    "#     ketqua=so1+so2\n",
    "#     print(f\"Tổng của hai {so1} + {so2} = {ketqua}\")\n",
    "# if toantu==\"-\":\n",
    "#     ketqua=so1-so2\n",
    "#     print(f\"Hiệu của hai {so1} - {so2} = {ketqua}\")\n",
    "# if toantu==\"*\":\n",
    "#     ketqua=so1*so2\n",
    "#     print(f\"Tích của hai {so1} * {so2} = {ketqua}\")\n",
    "# if toantu=='/' and so2 != 0:\n",
    "#     ketqua=so1/so2\n",
    "#     print(f\"Thương của hai {so1} / {so2} = {ketqua}\")   \n",
    "\n",
    "so1=float(input(\"Nhập số thứ nhất:\"))\n",
    "so2=float(input(\"Nhập số thứ hai:\"))\n",
    "toantu=input(\"Nhập phép toán cần tính:+,-<,*,/:\")\n",
    "if toantu==\"+\":\n",
    "    ketqua=so1+so2\n",
    "    print(f\"Tổng của hai {so1} + {so2} = {ketqua}\")\n",
    "elif toantu==\"-\":\n",
    "    ketqua=so1-so2\n",
    "    print(f\"Hiệu của hai {so1} - {so2} = {ketqua}\")\n",
    "elif toantu==\"*\":\n",
    "    ketqua=so1*so2\n",
    "    print(f\"Tích của hai {so1} * {so2} = {ketqua}\")\n",
    "elif toantu=='/' and so2 != 0:  \n",
    "    if so2 != 0:\n",
    "        ketqua=so1/so2\n",
    "        print(f\"Thương của hai {so1} / {so2} = {ketqua}\")\n",
    "    else:\n",
    "        print(\"Không thể chia cho 0\")\n",
    "else:\n",
    "    print(\"Toán tử không hợp lệ\")\n",
    "    \n",
    "\n",
    "    ketqua=so1/so2\n",
    "    print(f\"Thương của hai {so1} / {so2} = {ketqua}\")   \n",
    "\n"
   ]
  },
  {
   "cell_type": "code",
   "execution_count": null,
   "id": "7b27ff9c",
   "metadata": {},
   "outputs": [
    {
     "name": "stdout",
     "output_type": "stream",
     "text": [
      "Số lớn nhất trong 3 số: 5.0\n"
     ]
    }
   ],
   "source": [
    "# so1=float(input(\"Nhập số 1:\"))\n",
    "# so2=float(input(\"Nhập số 2:\"))\n",
    "# so3=float(input(\"Nhập số 3:\"))\n",
    "# max=so1 if so1>so2 and so1>so3 else so2 if so2>so3 and so2>so1 else so3 if so3>so1 and so3>so2 else \"Ba số bằng nhau\"\n",
    "# print(\"Số lớn nhất trong 3 số:\",max)\n",
    "\n",
    "so1=float(input(\"Nhập số 1:\"))\n",
    "so2=float(input(\"Nhập số 2:\"))  \n",
    "so3=float(input(\"Nhập số 3:\"))\n",
    "max=so1 if so1 > so2 else so2  \n",
    "max= max if max > so3 else so3 \n",
    "print(\"Số lớn nhất trong 3 số:\",max)"
   ]
  }
 ],
 "metadata": {
  "kernelspec": {
   "display_name": "Python 3",
   "language": "python",
   "name": "python3"
  },
  "language_info": {
   "codemirror_mode": {
    "name": "ipython",
    "version": 3
   },
   "file_extension": ".py",
   "mimetype": "text/x-python",
   "name": "python",
   "nbconvert_exporter": "python",
   "pygments_lexer": "ipython3",
   "version": "3.13.7"
  }
 },
 "nbformat": 4,
 "nbformat_minor": 5
}
