{
 "cells": [
  {
   "cell_type": "markdown",
   "id": "fdeff819",
   "metadata": {},
   "source": [
    "# Sinh Viên thực hiện Lab 4 ở Đây"
   ]
  },
  {
   "cell_type": "markdown",
   "id": "acc5d7dc",
   "metadata": {},
   "source": [
    "## Lab 1 - Bài 1"
   ]
  },
  {
   "cell_type": "code",
   "execution_count": 2,
   "id": "001e0507",
   "metadata": {},
   "outputs": [
    {
     "name": "stdout",
     "output_type": "stream",
     "text": [
      " Tính tiền nước sinh hoạt \n",
      " Số nước đã sử dụng là: 23(m3) \n",
      " Tổng tiền phải trả là: 199,000 VND \n"
     ]
    }
   ],
   "source": [
    "# Code Lab 4 Bài 1\n",
    "from Lab4 import tinh_tien_nuoc\n",
    "print(\" Tính tiền nước sinh hoạt \")\n",
    "so_nuoc = float(input(\" Nhập số nước đã sử dụng(m3): \"))\n",
    "print(f\" Số nước đã sử dụng là: {int(so_nuoc)}(m3) \")\n",
    "print(f\" Tổng tiền phải trả là: {tinh_tien_nuoc(so_nuoc) :,.0f} VND \")\n",
    "\n"
   ]
  },
  {
   "cell_type": "markdown",
   "id": "c0835310",
   "metadata": {},
   "source": [
    "## Lab 4 - Bài 2"
   ]
  },
  {
   "cell_type": "code",
   "execution_count": 1,
   "id": "fa9cb39f",
   "metadata": {},
   "outputs": [
    {
     "name": "stdout",
     "output_type": "stream",
     "text": [
      "Tính nguyên liệu để làm 1 hộp bánh\n",
      "\n",
      "Nguyên liệu cần thiết cho 1 hộp bánh là:\n",
      "- Đường: 7.970000000000001 kg\n",
      "- Đậu: 7.820000000000001 kg\n"
     ]
    }
   ],
   "source": [
    "# Code lab 4  bài 2 ở đây\n",
    "#Tính nguyên liệu làm bánh\n",
    "from Lab4 import tinh_nguyen_lieu\n",
    "print(\"Tính nguyên liệu để làm 1 hộp bánh\")\n",
    "sl_bdx = int(input(\"Nhập số lượng bánh đậu xanh: \"))\n",
    "sl_btc = int(input(\"Nhập số lượng bánh thập cẩm: \"))\n",
    "sl_bd = int(input(\"Nhập số lượng bánh dẻo: \"))\n",
    "ket_qua = tinh_nguyen_lieu(sl_bdx, sl_btc, sl_bd)\n",
    "print(\"\\nNguyên liệu cần thiết cho 1 hộp bánh là:\")\n",
    "for ten, kl in ket_qua.items():\n",
    "    print(f\"- {ten}: {kl} kg\")\n",
    "\n",
    "\n",
    "\n",
    "\n"
   ]
  },
  {
   "cell_type": "markdown",
   "id": "0f2483fe",
   "metadata": {},
   "source": [
    "## Lab 4 - Bài 3"
   ]
  },
  {
   "cell_type": "code",
   "execution_count": 11,
   "id": "7034990b",
   "metadata": {},
   "outputs": [
    {
     "name": "stdout",
     "output_type": "stream",
     "text": [
      "Danh sách hiện tại: [4]\n",
      "Danh sách hiện tại: [4, 2]\n",
      "Danh sách hiện tại: [4, 2, 1]\n",
      "Danh sách hiện tại: [4, 2, 1, 68]\n",
      "Danh sách hiện tại: [4, 2, 1, 68, 86]\n",
      "Danh sách hiện tại: [4, 2, 1, 68, 86, 36]\n",
      "Danh sách hiện tại: [4, 2, 1, 68, 86, 36, 8683]\n",
      "Đầu vào không hợp lệ. Vui lòng nhập số nguyên dương hoặc 's' để thoát chương trình.\n",
      "Các số chia hết cho 2: [4, 2, 68, 86, 36]\n"
     ]
    }
   ],
   "source": [
    "# Code lab 4  bài 3 ở đây\n",
    "my_list = []\n",
    "while True:\n",
    "    nhap_so = input(\"Nhập số nguyên dương (hoặc 's' để kết thúc): \")\n",
    "    if nhap_so.lower() == 's':\n",
    "        break\n",
    "    try:\n",
    "        so = int(nhap_so)\n",
    "        if so < 0:\n",
    "            print(\"Vui lòng chỉ nhập số nguyên dương.\")\n",
    "            continue\n",
    "        my_list.append(so)\n",
    "        print(\"Danh sách hiện tại:\", my_list)\n",
    "    except ValueError:\n",
    "        print(\"Đầu vào không hợp lệ. Vui lòng nhập số nguyên dương hoặc 's' để thoát chương trình.\")\n",
    "new_list = list(filter(lambda x: (x % 2 == 0) , my_list))\n",
    "print(\"Các số chia hết cho 2:\", new_list)"
   ]
  },
  {
   "cell_type": "markdown",
   "id": "d36ea3d3",
   "metadata": {},
   "source": [
    "## Lab 4 - Bài 4"
   ]
  },
  {
   "cell_type": "code",
   "execution_count": null,
   "id": "4c707ec1",
   "metadata": {},
   "outputs": [
    {
     "name": "stdout",
     "output_type": "stream",
     "text": [
      "==============================MENU==============================\n",
      "1. Tính tiền nước sinh hoạt\n",
      "2. Tính nguyên liệu làm bánh\n",
      "3. Thoát\n",
      "================================================================\n",
      "Tính nguyên liệu làm bánh\n",
      "Nguyên liệu cần chuẩn bị để làm 100 cái bánh:\n",
      "- Đường: 15.0\n",
      "- Đậu: 9.0\n",
      "==============================MENU==============================\n",
      "1. Tính tiền nước sinh hoạt\n",
      "2. Tính nguyên liệu làm bánh\n",
      "3. Thoát\n",
      "================================================================\n"
     ]
    }
   ],
   "source": [
    "# code lab 4 bài 4 ở đây\n",
    "# import lab4\n",
    "from Lab4 import tinh_tien_nuoc, tinh_nguyen_lieu\n",
    "menu = {\n",
    "    \"1\": \"Tính tiền nước sinh hoạt\",\n",
    "    \"2\": \"Tính nguyên liệu làm bánh\",\n",
    "    \"3\": \"Thoát\",\n",
    "}\n",
    "while True:\n",
    "    print(\"===\"*10 + \"MENU\" + \"===\"*10)\n",
    "    for key, value in menu.items():\n",
    "        print(f\"{key}. {value}\")\n",
    "    print(\"===\"*10 + \"====\" + \"===\"*10)\n",
    "    lua_chon = input(\"Mời bạn chọn chức năng: \")\n",
    "    if lua_chon == \"3\":\n",
    "        print(\"Thoát chương trình\")\n",
    "        break\n",
    "    elif lua_chon == \"1\":\n",
    "        print(\"Tính tiền nước sinh hoạt\")\n",
    "        so_nuoc = float(input(\"Nhập số nước đã sử dụng (m3): \"))\n",
    "        print(f\"Tổng tiền nước phải trả là: {tinh_tien_nuoc(so_nuoc)} VND\")\n",
    "    elif lua_chon == \"2\":\n",
    "        print(\"Tính nguyên liệu làm bánh\")\n",
    "        so_banh = int(input(\"Nhập số bánh cần làm: \"))\n",
    "        nguyen_lieu = tinh_nguyen_lieu(so_banh, so_banh, so_banh)\n",
    "        print(f\"Nguyên liệu cần chuẩn bị để làm {so_banh} cái bánh:\")\n",
    "        for item, quantity in nguyen_lieu.items():\n",
    "            print(f\"- {item}: {quantity}\")\n",
    "    else:\n",
    "        print(\"Lựa chọn không hợp lệ, vui lòng thử lại.\")"
   ]
  },
  {
   "cell_type": "markdown",
   "id": "e2b41d4a",
   "metadata": {},
   "source": [
    "## Lab 4 - Bài 5: bài tập làm thêm"
   ]
  },
  {
   "cell_type": "code",
   "execution_count": 2,
   "id": "0e0172f7",
   "metadata": {},
   "outputs": [
    {
     "name": "stdout",
     "output_type": "stream",
     "text": [
      "==============================MENU==============================\n",
      "0. Thoát chương trình\n",
      "1. Phép tính cơ bản: Cộng, trừ, nhân, chia\n",
      "2. Lũy thừa\n",
      "3. Căn bậc hai\n",
      "4. Hàm lượng giác: Sin, Cos, Tan\n",
      "5. Logarit: Log10, ln, log cơ số tùy chọn\n",
      "6. Giải phương trình bậc nhất\n",
      "7. Giải phương trình bậc hai\n",
      "8. Lịch sử phép tính\n",
      "9. Xem thời gian hiện tại\n",
      "10. Giao diện thân thiện\n",
      "================================================================\n",
      "Thời gian hiện tại: 2025-10-06 21:54:02\n",
      "==============================MENU==============================\n",
      "0. Thoát chương trình\n",
      "1. Phép tính cơ bản: Cộng, trừ, nhân, chia\n",
      "2. Lũy thừa\n",
      "3. Căn bậc hai\n",
      "4. Hàm lượng giác: Sin, Cos, Tan\n",
      "5. Logarit: Log10, ln, log cơ số tùy chọn\n",
      "6. Giải phương trình bậc nhất\n",
      "7. Giải phương trình bậc hai\n",
      "8. Lịch sử phép tính\n",
      "9. Xem thời gian hiện tại\n",
      "10. Giao diện thân thiện\n",
      "================================================================\n",
      "Menu đã hiển thị bằng tiếng Việt thân thiện.\n",
      "==============================MENU==============================\n",
      "0. Thoát chương trình\n",
      "1. Phép tính cơ bản: Cộng, trừ, nhân, chia\n",
      "2. Lũy thừa\n",
      "3. Căn bậc hai\n",
      "4. Hàm lượng giác: Sin, Cos, Tan\n",
      "5. Logarit: Log10, ln, log cơ số tùy chọn\n",
      "6. Giải phương trình bậc nhất\n",
      "7. Giải phương trình bậc hai\n",
      "8. Lịch sử phép tính\n",
      "9. Xem thời gian hiện tại\n",
      "10. Giao diện thân thiện\n",
      "================================================================\n",
      "---- LỊCH SỬ PHÉP TÍNH ----\n",
      "1. Căn bậc hai: √21.0, √32.0\n",
      "2. Cơ bản: 2.0, 3.0 → +, -, *, /\n",
      "3. Cơ bản: 2.0, 3.0 → +, -, *, /\n",
      "==============================MENU==============================\n",
      "0. Thoát chương trình\n",
      "1. Phép tính cơ bản: Cộng, trừ, nhân, chia\n",
      "2. Lũy thừa\n",
      "3. Căn bậc hai\n",
      "4. Hàm lượng giác: Sin, Cos, Tan\n",
      "5. Logarit: Log10, ln, log cơ số tùy chọn\n",
      "6. Giải phương trình bậc nhất\n",
      "7. Giải phương trình bậc hai\n",
      "8. Lịch sử phép tính\n",
      "9. Xem thời gian hiện tại\n",
      "10. Giao diện thân thiện\n",
      "================================================================\n",
      "Vui lòng nhập một số nguyên hợp lệ.\n",
      "==============================MENU==============================\n",
      "0. Thoát chương trình\n",
      "1. Phép tính cơ bản: Cộng, trừ, nhân, chia\n",
      "2. Lũy thừa\n",
      "3. Căn bậc hai\n",
      "4. Hàm lượng giác: Sin, Cos, Tan\n",
      "5. Logarit: Log10, ln, log cơ số tùy chọn\n",
      "6. Giải phương trình bậc nhất\n",
      "7. Giải phương trình bậc hai\n",
      "8. Lịch sử phép tính\n",
      "9. Xem thời gian hiện tại\n",
      "10. Giao diện thân thiện\n",
      "================================================================\n",
      "Thoát chương trình.\n"
     ]
    }
   ],
   "source": [
    "# code lab 4  bài làm thêm ở đây\n",
    "import Lab4\n",
    "menu = {\n",
    "    0: \"Thoát chương trình\",\n",
    "    1: \"Phép tính cơ bản: Cộng, trừ, nhân, chia\",\n",
    "    2: \"Lũy thừa\",\n",
    "    3: \"Căn bậc hai\",\n",
    "    4: \"Hàm lượng giác: Sin, Cos, Tan\",\n",
    "    5: \"Logarit: Log10, ln, log cơ số tùy chọn\",\n",
    "    6: \"Giải phương trình bậc nhất\",\n",
    "    7: \"Giải phương trình bậc hai\",\n",
    "    8: \"Lịch sử phép tính\",\n",
    "    9: \"Xem thời gian hiện tại\",\n",
    "    10: \"Giao diện thân thiện\"\n",
    "}\n",
    "while True:\n",
    "    print(\"===\"*10 + \"MENU\" + \"===\"*10)\n",
    "    for key, value in menu.items():\n",
    "        print(f\"{key}. {value}\")\n",
    "    print(\"===\"*10 + \"====\" + \"===\"*10)\n",
    "    try:\n",
    "            lua_chon = int(input(\"Chọn một lựa chọn chương trình: \"))\n",
    "    except ValueError:\n",
    "            print(\"Vui lòng nhập một số nguyên hợp lệ.\")\n",
    "            continue\n",
    "\n",
    "    match lua_chon:\n",
    "            case 0: print(\"Thoát chương trình.\"); break\n",
    "            case 1: Lab4.tinh_toan_co_ban()\n",
    "            case 2: Lab4.luy_thua()\n",
    "            case 3: Lab4.can_bac_hai()\n",
    "            case 4: Lab4.ham_luong_giac()\n",
    "            case 5: Lab4.logarit()\n",
    "            case 6: Lab4.giai_pt_bac_nhat\n",
    "            case 7: Lab4.giai_pt_bac_hai()\n",
    "            case 8: Lab4.xem_lich_su()\n",
    "            case 9: Lab4.xem_thoi_gian()\n",
    "            case 10: print(\"Menu đã hiển thị bằng tiếng Việt thân thiện.\")\n",
    "            case _: print(\"Chức năng chưa được triển khai.\")\n",
    "\n"
   ]
  }
 ],
 "metadata": {
  "kernelspec": {
   "display_name": "Python 3",
   "language": "python",
   "name": "python3"
  },
  "language_info": {
   "codemirror_mode": {
    "name": "ipython",
    "version": 3
   },
   "file_extension": ".py",
   "mimetype": "text/x-python",
   "name": "python",
   "nbconvert_exporter": "python",
   "pygments_lexer": "ipython3",
   "version": "3.13.7"
  }
 },
 "nbformat": 4,
 "nbformat_minor": 5
}
