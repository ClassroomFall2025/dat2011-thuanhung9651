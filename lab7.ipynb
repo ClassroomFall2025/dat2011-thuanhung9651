{
 "cells": [
  {
   "cell_type": "markdown",
   "id": "fdeff819",
   "metadata": {},
   "source": [
    "# Sinh Viên thực hiện Lab 7 ở Đây"
   ]
  },
  {
   "cell_type": "markdown",
   "id": "acc5d7dc",
   "metadata": {},
   "source": [
    "## Lab 7 - Bài 1"
   ]
  },
  {
   "cell_type": "code",
   "execution_count": 1,
   "id": "001e0507",
   "metadata": {},
   "outputs": [
    {
     "name": "stdout",
     "output_type": "stream",
     "text": [
      "Tự nguyện\n",
      "Trương Quốc Khánh\n",
      "Nếu là chim, tôi sẽ là loài bồ câu trắng\n",
      "Nếu là hoa, tôi sẽ là một đóa hướng dương\n",
      "Nếu là mây, tôi sẽ là một vầng mây ấm\n",
      "Là người, tôi sẽ chết cho quê hương.\n",
      "\n",
      "Là chim, tôi sẽ cất cao đôi cánh mềm\n",
      "Từ nam ra ngoài bắc báo tin nối liền\n",
      "Là hoa, tôi nở tình yêu ban sớm\n",
      "Cùng muôn trái tim ngất ngây hoà bình.\n",
      "\n",
      "Là mây, theo làn gió tung bay khắp trời\n",
      "Nghìn xưa oai hùng đó tôi xin tiếp lời\n",
      "Là người, xin một lần khi nằm xuống\n",
      "Nhìn anh em đứng lên phất cao ngọn cờ.\n"
     ]
    },
    {
     "name": "stderr",
     "output_type": "stream",
     "text": [
      "<>:2: SyntaxWarning: invalid escape sequence '\\R'\n",
      "<>:2: SyntaxWarning: invalid escape sequence '\\R'\n",
      "C:\\Users\\Hiên\\AppData\\Local\\Temp\\ipykernel_23276\\1275384940.py:2: SyntaxWarning: invalid escape sequence '\\R'\n",
      "  file = open(\"D:\\Resource.txt\", \"r\", encoding=\"utf-8\")\n"
     ]
    }
   ],
   "source": [
    "# Code lab 7 bài 1 ở đây\n",
    "file = open(\"D:\\Resource.txt\", \"r\", encoding=\"utf-8\")\n",
    "noidung = file.read()\n",
    "print(noidung)"
   ]
  },
  {
   "cell_type": "markdown",
   "id": "c0835310",
   "metadata": {},
   "source": [
    "## Lab 7 - Bài 2"
   ]
  },
  {
   "cell_type": "code",
   "execution_count": 2,
   "id": "fa9cb39f",
   "metadata": {},
   "outputs": [
    {
     "name": "stdout",
     "output_type": "stream",
     "text": [
      "Nội dung bài thơ:\n",
      "\n",
      "“… \n",
      "Nếu một mai tôi có bay lên trời \n",
      "Thì người ơi tôi đã sống rất thảnh thơi \n",
      "Nếu một mai tôi có đi qua đời \n",
      "Thì người ơi tôi đã sống rất tuyệt vời \n",
      "…” \n",
      "\n"
     ]
    }
   ],
   "source": [
    "with open(\"Lab7-Exercise2.txt\", \"r\", encoding=\"utf-8\") as f:\n",
    "    noi_dung = f.read()\n",
    "\n",
    "print(\"Nội dung bài thơ:\\n\")\n",
    "print(noi_dung)\n",
    "\n",
    "\n"
   ]
  },
  {
   "cell_type": "markdown",
   "id": "0f2483fe",
   "metadata": {},
   "source": [
    "## Lab 7 - Bài 3"
   ]
  },
  {
   "cell_type": "code",
   "execution_count": 1,
   "id": "7034990b",
   "metadata": {},
   "outputs": [
    {
     "name": "stdout",
     "output_type": "stream",
     "text": [
      "\n",
      "--- Bài thơ thứ 1 ---\n",
      "\n",
      "--- Bài thơ thứ 2 ---\n",
      "\n",
      "--- Bài thơ thứ 3 ---\n",
      "\n",
      "--- Bài thơ thứ 4 ---\n",
      "\n",
      "--- Bài thơ thứ 5 ---\n",
      "\n",
      "Đã ghi thông tin 5 bài thơ vào file 'Baitho' thành công!\n"
     ]
    }
   ],
   "source": [
    "import os\n",
    "\n",
    "\n",
    "filename = input(\"Nhập tên file .csv: \")\n",
    "\n",
    "\\\n",
    "file_exists = os.path.exists(filename)\n",
    "\n",
    "\n",
    "mode = \"a\" if file_exists else \"w\"\n",
    "\n",
    "with open(filename, mode, encoding=\"utf-8\") as f:\n",
    "    \n",
    "    if not file_exists:\n",
    "        f.write(\"Tiêu đề,Tác giả,Năm sáng tác\\n\")\n",
    "\n",
    "    \n",
    "    for i in range(5):\n",
    "        print(f\"\\n--- Bài thơ thứ {i+1} ---\")\n",
    "        tieude = input(\"Tiêu đề: \")\n",
    "        tacgia = input(\"Tác giả: \")\n",
    "        namsangtac = input(\"Năm sáng tác: \")\n",
    "\n",
    "        \n",
    "        line = f\"{tieude},{tacgia},{namsangtac}\\n\"\n",
    "        f.write(line)\n",
    "\n",
    "print(f\"\\nĐã ghi thông tin 5 bài thơ vào file '{filename}' thành công!\")\n"
   ]
  },
  {
   "cell_type": "markdown",
   "id": "d36ea3d3",
   "metadata": {},
   "source": [
    "## Lab 7 - Bài 4"
   ]
  },
  {
   "cell_type": "code",
   "execution_count": 1,
   "id": "4c707ec1",
   "metadata": {},
   "outputs": [],
   "source": [
    "file_path = r\"D:\\Học liệu FPT\\DAT2011 - Lập trình Python\\Lab\\DAT2011 - Lab 7 - Resource.txt\"\n",
    "with open(file_path, \"r\", encoding=\"utf-8\") as f:\n",
    "    lines = [line.strip() for line in f.readlines()]\n",
    "name = lines[0]\n",
    "author = lines[1]\n",
    "\n",
    "content = \"\\n\".join(lines[2:]).strip()\n",
    "sections = content.split(\"\\n\\n\") \n",
    "with open(\"output.xml\", \"w\", encoding=\"utf-8\") as f:\n",
    "    f.write(\"<songs>\\n\")\n",
    "    f.write(f\"  <name>{name}</name>\\n\")\n",
    "    f.write(f\"  <author>{author}</author>\\n\")\n",
    "    for sec in sections:\n",
    "        f.write(f\"  <section>{sec.strip()}</section>\\n\")\n",
    "    f.write(\"</songs>\")"
   ]
  },
  {
   "cell_type": "markdown",
   "id": "e2b41d4a",
   "metadata": {},
   "source": [
    "## Lab 7 - Bài 5: bài tập làm thêm"
   ]
  },
  {
   "cell_type": "code",
   "execution_count": null,
   "id": "0e0172f7",
   "metadata": {},
   "outputs": [],
   "source": [
    "# code lab 7  bài làm thêm ở đây "
   ]
  }
 ],
 "metadata": {
  "kernelspec": {
   "display_name": "Python 3",
   "language": "python",
   "name": "python3"
  },
  "language_info": {
   "codemirror_mode": {
    "name": "ipython",
    "version": 3
   },
   "file_extension": ".py",
   "mimetype": "text/x-python",
   "name": "python",
   "nbconvert_exporter": "python",
   "pygments_lexer": "ipython3",
   "version": "3.13.7"
  }
 },
 "nbformat": 4,
 "nbformat_minor": 5
}
