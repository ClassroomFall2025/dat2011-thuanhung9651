{
 "cells": [
  {
   "cell_type": "markdown",
   "id": "fdeff819",
   "metadata": {},
   "source": [
    "# Sinh Viên thực hiện Lab 3 ở Đây"
   ]
  },
  {
   "cell_type": "markdown",
   "id": "acc5d7dc",
   "metadata": {},
   "source": [
    "## Lab 3 - Bài 1"
   ]
  },
  {
   "cell_type": "code",
   "execution_count": 3,
   "id": "001e0507",
   "metadata": {},
   "outputs": [
    {
     "name": "stdout",
     "output_type": "stream",
     "text": [
      "[5]\n",
      "[5, 5]\n",
      "[5, 5, 5]\n",
      "[5, 5, 5, 5]\n",
      "[5, 5, 5, 5, 5]\n",
      "[5, 5, 5, 5, 5, 5]\n",
      "[5, 5, 5, 5, 5, 5, 3]\n",
      "[5, 5, 5, 5, 5, 5, 3, 2]\n",
      "[5, 5, 5, 5, 5, 5, 3, 2, 1]\n",
      "[5, 5, 5, 5, 5, 5, 3, 2, 1, 9]\n",
      "[5, 5, 5, 5, 5, 5, 3, 2, 1, 9, 4]\n",
      "[5, 5, 5, 5, 5, 5, 3, 2, 1, 9, 4, 123]\n",
      "thoát chương trình\n",
      "[5, 5, 5, 5, 5, 5, 3, 2, 1, 9, 4, 123]\n",
      "dãy số đã sắp xếp giảm dần\n",
      "[123, 9, 5, 5, 5, 5, 5, 5, 4, 3, 2, 1]\n",
      "Giá trị lớn nhất dãy số 123\n",
      "Giá trị nhỏ nhất dãy số 1\n"
     ]
    }
   ],
   "source": [
    "# Code lab 3 bài 1 ở đây\n",
    "day_so = []\n",
    "while True:\n",
    "#     so = input(\"Nhập số: \")\n",
    "#     if so.lower() == 'q':\n",
    "#         print(\"thoát chương trình\")\n",
    "#         break\n",
    "#     else:\n",
    "#         phan_tu = int(so)\n",
    "#         day_so.append(phan_tu)\n",
    "    try:\n",
    "        so = input(\"Nhập số: \")\n",
    "        if so.lower() == \"q\":\n",
    "            print(\"thoát chương trình\")\n",
    "            break\n",
    "        else:\n",
    "            phan_tu = int(so)\n",
    "            day_so.append(phan_tu)\n",
    "    except ValueError:\n",
    "        print(\"Nhập không đúng, hãy nhập số hoặc 'q' để thoát chương trình\")\n",
    "    print(day_so)\n",
    "# print(day_so)\n",
    "\n",
    "#sắp xếp theo thứ tự tăng dần\n",
    "# day_so.sort()\n",
    "# print(\"dãy số đã sắp xếp tăng dần\")\n",
    "# print(day_so)\n",
    "# print(\"Giá trị nhỏ nhất dãy số: \", day_so[0])\n",
    "# print(\"Giá trị lớn nhất dãy số: \", day_so[-1])\n",
    "\n",
    "#Duyệt dãy số và tính tổng các số chia hết cho 3\n",
    "# for phan_tu in day_so:\n",
    "#     if phan_tu % 3 == 0:\n",
    "#         tong += phan_tu\n",
    "#         dem +=1\n",
    "# #xuất thông tin\n",
    "# if dem != 0:\n",
    "#     print(\"Giá trị cần tìm\",tong / dem)\n",
    "# else:\n",
    "#     print(\"Không có số nào chia hết cho 3\")\n",
    "\n",
    "#Giảm dần\n",
    "print(day_so)\n",
    "#Sắp xếp theo thứ tự giảm dần\n",
    "day_so.sort(reverse=True)\n",
    "print(\"dãy số đã sắp xếp giảm dần\") \n",
    "print(day_so)\n",
    "print(\"Giá trị lớn nhất dãy số\",day_so[0])\n",
    "print(\"Giá trị nhỏ nhất dãy số\",day_so[-1])\n"
   ]
  },
  {
   "cell_type": "code",
   "execution_count": 2,
   "id": "c2584ba5",
   "metadata": {},
   "outputs": [
    {
     "name": "stdout",
     "output_type": "stream",
     "text": [
      "2\n",
      "3\n",
      "4\n",
      "9\n",
      "10\n"
     ]
    }
   ],
   "source": [
    "day_so=[2,3,4,9,10]\n",
    "for phan_tu in day_so:\n",
    "    print(phan_tu)\n"
   ]
  },
  {
   "cell_type": "markdown",
   "id": "c0835310",
   "metadata": {},
   "source": [
    "## Lab 3 - Bài 2"
   ]
  },
  {
   "cell_type": "code",
   "execution_count": 9,
   "id": "fa9cb39f",
   "metadata": {},
   "outputs": [
    {
     "name": "stdout",
     "output_type": "stream",
     "text": [
      "thoát chương trình\n",
      "{}\n"
     ]
    }
   ],
   "source": [
    "# sv={}\n",
    "# sv[\"Họ tên\"]=input(\"Nhập họ tên:\")\n",
    "# sv[\"Điểm\"]=float(input(\"Nhập điểm:\"))\n",
    "\n",
    "# if sv[\"Điểm\"] < 5:\n",
    "#     sv[\"Xếp loại\"]= \"Yếu\"\n",
    "# elif 5 <= sv[\"Điểm\"] < 7:\n",
    "#     sv[\"Xếp loại\"]= \"Trung Bình\"\n",
    "# elif 7 <= sv[\"Điểm\"] <8:\n",
    "#     sv[\"Xếp loại\"]= \"Khá\"\n",
    "# elif 8 <= sv[\"Điểm\"] <9:\n",
    "#     sv[\"Xếp loại\"]= \"Giỏi\"\n",
    "# else:\n",
    "#     sv[\"Xếp loại\"]= \"Xuất sắc\"\n",
    "\n",
    "# print(\"\\n--- Thông tin sinh viên ---\")\n",
    "# print(\"Họ tên:\", sv[\"Họ tên\"])\n",
    "# print(\"Điểm:\",sv[\"Điểm\"])\n",
    "# print(\"Xếp loại:\",sv[\"Xếp loại\"])\n",
    "\n",
    "# sinh_vien= {\n",
    "#         \"họ tên\":\"\",\n",
    "#         \"điểm\":\"\"\n",
    "# }\n",
    "# ho_ten = input(\"nhập họ và tên sinh viên:\")\n",
    "# diem = float(input(\"nhập điểm:\"))\n",
    "# sinh_vien['họ tên']=ho_ten\n",
    "# sinh_vien[\"điểm\"]=diem\n",
    "# if diem >=9 and diem <=10:\n",
    "#     hoc_luc=\"xuất sắc\"\n",
    "# elif diem >=8:\n",
    "#     hoc_luc=\"giỏi\"\n",
    "# elif diem >=7:\n",
    "#     hoc_luc=\"khá\"\n",
    "# elif diem >=5:\n",
    "#     hoc_luc=\"trung bình\"\n",
    "# else:\n",
    "#     hoc_luc =\"chưa đạt\"\n",
    "# sinh_vien[\"học lực\"]= hoc_luc\n",
    "# print(sinh_vien)\n",
    "\n",
    "ds_sinhvien = []\n",
    "sinh_vien = {}\n",
    "while True:\n",
    "    ho_ten = input (\"Nhập họ và tên sinh viên:\")\n",
    "    if ho_ten == \"q\":\n",
    "        print(\"thoát chương trình\")\n",
    "        break\n",
    "    else:\n",
    "        diem = float(input(\"nhập điểm:\"))\n",
    "        if diem >=9 and diem <=10:\n",
    "            hoc_luc=\"xuất sắc\"\n",
    "        elif diem >=8:\n",
    "            hoc_luc=\"giỏi\"\n",
    "        elif diem >=7:\n",
    "            hoc_luc=\"khá\"\n",
    "        elif diem >=5:\n",
    "            hoc_luc=\"trung bình\"\n",
    "        else:\n",
    "            hoc_luc =\"chưa đạt\"\n",
    "            sinh_vien[\"họ tên\"]= ho_ten\n",
    "            sinh_vien[\"điểm\"] = diem\n",
    "            sinh_vien[\"học lực\"] = hoc_luc\n",
    "            sinh_vien[\"học lực\"]= hoc_luc\n",
    "            ds_sinhvien.append(sinh_vien)\n",
    "print(sinh_vien)\n",
    "        \n",
    "\n"
   ]
  },
  {
   "cell_type": "markdown",
   "id": "0f2483fe",
   "metadata": {},
   "source": [
    "## Lab 3 - Bài 3"
   ]
  },
  {
   "cell_type": "code",
   "execution_count": 1,
   "id": "7034990b",
   "metadata": {},
   "outputs": [
    {
     "name": "stdout",
     "output_type": "stream",
     "text": [
      "5 là số nguyên tố.\n"
     ]
    }
   ],
   "source": [
    "# Code lab 3  bài 3 ở đây\n",
    "n = int(input(\"Nhập một số nguyên n: \"))\n",
    "\n",
    "if n < 2:\n",
    "    print(n, \"không phải là số nguyên tố.\")\n",
    "elif n == 2:\n",
    "    print(\"2 là số nguyên tố.\")\n",
    "elif n % 2 == 0:\n",
    "    print(n, \"không phải là số nguyên tố.\")   \n",
    "else:\n",
    "    ok = True\n",
    "    i = 3\n",
    "    while i * i <= n:\n",
    "        if n % i == 0:\n",
    "            ok = False\n",
    "            break\n",
    "        i += 2\n",
    "    if ok:\n",
    "        print(n, \"là số nguyên tố.\")\n",
    "    else:\n",
    "        print(n, \"không phải là số nguyên tố.\")"
   ]
  },
  {
   "cell_type": "markdown",
   "id": "d36ea3d3",
   "metadata": {},
   "source": [
    "## Lab 3 - Bài 4"
   ]
  },
  {
   "cell_type": "code",
   "execution_count": 4,
   "id": "4c707ec1",
   "metadata": {},
   "outputs": [
    {
     "name": "stdout",
     "output_type": "stream",
     "text": [
      "1 x 1 =  1   2 x 1 =  2   3 x 1 =  3   4 x 1 =  4   5 x 1 =  5   6 x 1 =  6   7 x 1 =  7   8 x 1 =  8   9 x 1 =  9\n",
      "1 x 2 =  2   2 x 2 =  4   3 x 2 =  6   4 x 2 =  8   5 x 2 = 10   6 x 2 = 12   7 x 2 = 14   8 x 2 = 16   9 x 2 = 18\n",
      "1 x 3 =  3   2 x 3 =  6   3 x 3 =  9   4 x 3 = 12   5 x 3 = 15   6 x 3 = 18   7 x 3 = 21   8 x 3 = 24   9 x 3 = 27\n",
      "1 x 4 =  4   2 x 4 =  8   3 x 4 = 12   4 x 4 = 16   5 x 4 = 20   6 x 4 = 24   7 x 4 = 28   8 x 4 = 32   9 x 4 = 36\n",
      "1 x 5 =  5   2 x 5 = 10   3 x 5 = 15   4 x 5 = 20   5 x 5 = 25   6 x 5 = 30   7 x 5 = 35   8 x 5 = 40   9 x 5 = 45\n",
      "1 x 6 =  6   2 x 6 = 12   3 x 6 = 18   4 x 6 = 24   5 x 6 = 30   6 x 6 = 36   7 x 6 = 42   8 x 6 = 48   9 x 6 = 54\n",
      "1 x 7 =  7   2 x 7 = 14   3 x 7 = 21   4 x 7 = 28   5 x 7 = 35   6 x 7 = 42   7 x 7 = 49   8 x 7 = 56   9 x 7 = 63\n",
      "1 x 8 =  8   2 x 8 = 16   3 x 8 = 24   4 x 8 = 32   5 x 8 = 40   6 x 8 = 48   7 x 8 = 56   8 x 8 = 64   9 x 8 = 72\n",
      "1 x 9 =  9   2 x 9 = 18   3 x 9 = 27   4 x 9 = 36   5 x 9 = 45   6 x 9 = 54   7 x 9 = 63   8 x 9 = 72   9 x 9 = 81\n"
     ]
    }
   ],
   "source": [
    "# code lab 3 bài 4 ở đây\n",
    "for i in range(1, 10):\n",
    "    row = []\n",
    "    for j in range(1, 10):\n",
    "        row.append(f\"{j} x {i} = {i*j:2d}\")\n",
    "    print(\"   \".join(row))\n"
   ]
  },
  {
   "cell_type": "markdown",
   "id": "e2b41d4a",
   "metadata": {},
   "source": [
    "## Lab 3 - Bài 5: bài tập làm thêm"
   ]
  },
  {
   "cell_type": "code",
   "execution_count": 6,
   "id": "0e0172f7",
   "metadata": {},
   "outputs": [
    {
     "name": "stdout",
     "output_type": "stream",
     "text": [
      "--- MÁY TÍNH ĐƠN GIẢN --- \n",
      "\n",
      " 1. Cộng (+)\n",
      "2. Trừ (-)\n",
      "3. Nhân (*)\n",
      "4. Chia (/)\n",
      "0. Thoát chương trình\n",
      "Kết quả: 568.0 * 4567.0 = 2594056.0\n",
      "Kết quả: 568.0 / 4567.0 = 0.12437048390628422\n",
      "\n",
      " 1. Cộng (+)\n",
      "2. Trừ (-)\n",
      "3. Nhân (*)\n",
      "4. Chia (/)\n",
      "0. Thoát chương trình\n",
      "Tạm biệt\n"
     ]
    }
   ],
   "source": [
    "# code lab 3  bài làm thêm ở đây \n",
    "print(\"--- MÁY TÍNH ĐƠN GIẢN --- \")\n",
    "while True:\n",
    "    print(\"\\n 1. Cộng (+)\")\n",
    "    print(\"2. Trừ (-)\")\n",
    "    print(\"3. Nhân (*)\")\n",
    "    print(\"4. Chia (/)\")\n",
    "    print(\"0. Thoát chương trình\")\n",
    "\n",
    "    lua_chon = input (\"Chọn phép tính:\")\n",
    "    \n",
    "    match lua_chon:\n",
    "        case \"0\":\n",
    "            print(\"Tạm biệt\")\n",
    "            break\n",
    "        case \"1\" | \"+\":\n",
    "            a = float(input(\"Số thứ nhất:\"))\n",
    "            b = float(input(\"Số thứ hai:\"))\n",
    "            print(f\"Kết quả: {a} + {b} = {a + b}\")\n",
    "        case \"2\" | \"-\":\n",
    "            a=float(input(\"Số thứ nhất:\"))\n",
    "            b=float(input(\"Số thứ hai:\"))\n",
    "            print(f\"Kết quả: {a} - {b} = {a - b}\")    \n",
    "        case \"3\" | \"*\":\n",
    "            a=float(input(\"Số thứ nhất:\"))\n",
    "            b=float(input(\"Số thứ hai:\"))\n",
    "            print(f\"Kết quả: {a} * {b} = {a * b}\")\n",
    "        case \"4\" | \"/\":\n",
    "            a=float(input(\"Số thứ nhất:\"))\n",
    "            b=float(input(\"Số thứ hai:\"))\n",
    "            print(f\"Kết quả: {a} / {b} = {a / b}\")\n",
    "    match b:\n",
    "        case 0:\n",
    "            print(\"Lỗi: Không thể chia cho 0\")\n",
    "        case _:\n",
    "            print(f\"Kết quả: {a} / {b} = {a / b}\")    \n",
    "        "
   ]
  }
 ],
 "metadata": {
  "kernelspec": {
   "display_name": "Python 3",
   "language": "python",
   "name": "python3"
  },
  "language_info": {
   "codemirror_mode": {
    "name": "ipython",
    "version": 3
   },
   "file_extension": ".py",
   "mimetype": "text/x-python",
   "name": "python",
   "nbconvert_exporter": "python",
   "pygments_lexer": "ipython3",
   "version": "3.13.7"
  }
 },
 "nbformat": 4,
 "nbformat_minor": 5
}
