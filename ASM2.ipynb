{
 "cells": [
  {
   "cell_type": "code",
   "execution_count": null,
   "id": "e2c14634",
   "metadata": {},
   "outputs": [
    {
     "name": "stdout",
     "output_type": "stream",
     "text": [
      "Đã nạp lại module qlnv_full.py\n",
      "\n",
      "MENU QUẢN LÝ NHÂN VIÊN (GĐ1+2)\n",
      "1. Y1 - Nhập DS NV và lưu file\n",
      "2. Y2 - Đọc NV từ file và xuất\n",
      "3. Y3 - Tìm NV theo mã\n",
      "4. Y4 - Xóa NV theo mã (cập nhật file)\n",
      "5. Y5 - Cập nhật NV theo mã (ghi file)\n",
      "6. Y6 - Tìm NV theo khoảng lương (lương cơ bản)\n",
      "7. Y7 - Sắp xếp theo họ và tên\n",
      "8. Y8 - Sắp xếp theo thu nhập\n",
      "9. Y9 - Top 5 NV thu nhập cao\n",
      "0. Thoát\n",
      "→ [Y3] Tìm NV theo MÃ\n",
      "→ Không tìm thấy.\n",
      "\n",
      "MENU QUẢN LÝ NHÂN VIÊN (GĐ1+2)\n",
      "1. Y1 - Nhập DS NV và lưu file\n",
      "2. Y2 - Đọc NV từ file và xuất\n",
      "3. Y3 - Tìm NV theo mã\n",
      "4. Y4 - Xóa NV theo mã (cập nhật file)\n",
      "5. Y5 - Cập nhật NV theo mã (ghi file)\n",
      "6. Y6 - Tìm NV theo khoảng lương (lương cơ bản)\n",
      "7. Y7 - Sắp xếp theo họ và tên\n",
      "8. Y8 - Sắp xếp theo thu nhập\n",
      "9. Y9 - Top 5 NV thu nhập cao\n",
      "0. Thoát\n",
      "Tạm biệt!\n"
     ]
    }
   ],
   "source": [
    "# from ASM1 import menu_quan_ly_nhan_vien\n",
    "\n",
    "# print(\"CHƯƠNG TRÌNH QUẢN LÝ NHÂN VIÊN - GIAI ĐOẠN 1\")\n",
    "# menu_quan_ly_nhan_vien()\n",
    "\n",
    "import importlib\n",
    "import ASM2 as ql\n",
    "\n",
    "importlib.reload(ql)\n",
    "print(\"Đã nạp lại module ASM2.py\")\n",
    "\n",
    "ql.menu_quan_ly_nhan_vien()\n",
    "\n",
    "\n"
   ]
  }
 ],
 "metadata": {
  "kernelspec": {
   "display_name": "Python 3",
   "language": "python",
   "name": "python3"
  },
  "language_info": {
   "codemirror_mode": {
    "name": "ipython",
    "version": 3
   },
   "file_extension": ".py",
   "mimetype": "text/x-python",
   "name": "python",
   "nbconvert_exporter": "python",
   "pygments_lexer": "ipython3",
   "version": "3.13.7"
  }
 },
 "nbformat": 4,
 "nbformat_minor": 5
}
