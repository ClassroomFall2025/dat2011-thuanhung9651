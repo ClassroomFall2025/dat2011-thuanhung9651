{
 "cells": [
  {
   "cell_type": "markdown",
   "id": "fdeff819",
   "metadata": {},
   "source": [
    "# Sinh Viên thực hiện Lab 1 ở Đây"
   ]
  },
  {
   "cell_type": "markdown",
   "id": "acc5d7dc",
   "metadata": {},
   "source": [
    "## Lab 1 - Bài 1"
   ]
  },
  {
   "cell_type": "code",
   "execution_count": 20,
   "id": "001e0507",
   "metadata": {},
   "outputs": [
    {
     "name": "stdout",
     "output_type": "stream",
     "text": [
      "Xin chào các bạn\n",
      "Tôi tên là Trang Thuận Hưng\n",
      "Tôi đang học lớp DAT2011\n",
      "Tôi hiện đang sống tại Thành phố Hồ Chí Minh\n"
     ]
    }
   ],
   "source": [
    "# Code lab 1 bài 1 ở đây\n",
    "print(\"Xin chào các bạn\")\n",
    "print(\"Tôi tên là Trang Thuận Hưng\")\n",
    "print(\"Tôi đang học lớp DAT2011\")\n",
    "print(\"Tôi hiện đang sống tại Thành phố Hồ Chí Minh\")"
   ]
  },
  {
   "cell_type": "markdown",
   "id": "c0835310",
   "metadata": {},
   "source": [
    "## Lab 1 - Bài 2"
   ]
  },
  {
   "cell_type": "code",
   "execution_count": 21,
   "id": "fa9cb39f",
   "metadata": {},
   "outputs": [
    {
     "name": "stdout",
     "output_type": "stream",
     "text": [
      "Chu vi hình chữ nhật là:  20.0\n",
      "Diện tích hình chữ nhật là:  25.0\n"
     ]
    }
   ],
   "source": [
    "# Code lab 1  bài 2 ở đây\n",
    "dai=float(input(\"Nhập chiều dài: \"))\n",
    "rong=float(input(\"Nhập chiều rộng: \"))\n",
    "\n",
    "chuvi=(dai+rong)*2\n",
    "dientich=dai*rong\n",
    "\n",
    "print(\"Chu vi hình chữ nhật là: \", chuvi)\n",
    "print(\"Diện tích hình chữ nhật là: \", dientich)"
   ]
  },
  {
   "cell_type": "markdown",
   "id": "0f2483fe",
   "metadata": {},
   "source": [
    "## Lab 1 - Bài 3"
   ]
  },
  {
   "cell_type": "code",
   "execution_count": 22,
   "id": "7034990b",
   "metadata": {},
   "outputs": [
    {
     "name": "stdout",
     "output_type": "stream",
     "text": [
      "\"\"...\n",
      "Sống không giận, không hờn không oán trách\n",
      "Sống mỉm cười, với thử thách chông gai\n",
      "Sống  lên, theo kịp ánh ban mai\n",
      "Sốngchan hòa, với những người chung sống.\n",
      "\n",
      "Sống là động, nhưng lòng luôn bất động\n",
      "Sống là thương, nhưng lòng chẳng vấn vương\n",
      "Sốngyên vui, danh lợi mãi coi thường\n",
      "Tâm bất biến, giữa dòng đời vạn biến\n",
      "...\"\"\n"
     ]
    }
   ],
   "source": [
    "# Code lab 1  bài 3 ở \n",
    "tusong=\"Sống\"\n",
    "print('\"\"...')\n",
    "print(f\"{tusong} không giận, không hờn không oán trách\")\n",
    "print(f\"{tusong} mỉm cười, với thử thách chông gai\")\n",
    "print(f\"{tusong}  lên, theo kịp ánh ban mai\")\n",
    "print(f\"{tusong}chan hòa, với những người chung sống.\")\n",
    "print()\n",
    "print(f\"{tusong} là động, nhưng lòng luôn bất động\")\n",
    "print(f\"{tusong} là thương, nhưng lòng chẳng vấn vương\")\n",
    "print(f\"{tusong}yên vui, danh lợi mãi coi thường\")\n",
    "print(\"Tâm bất biến, giữa dòng đời vạn biến\")\n",
    "print('...\"\"')"
   ]
  },
  {
   "cell_type": "markdown",
   "id": "d36ea3d3",
   "metadata": {},
   "source": [
    "## Lab 1 - Bài 4"
   ]
  },
  {
   "cell_type": "code",
   "execution_count": 23,
   "id": "4c707ec1",
   "metadata": {},
   "outputs": [
    {
     "name": "stdout",
     "output_type": "stream",
     "text": [
      "delta= 75.0\n",
      "delta= 8.660254037844387\n"
     ]
    }
   ],
   "source": [
    "# code lab 1 bài 4 ở đây\n",
    "import math\n",
    "a=float(input(\"Nhập độ dài cạnh a: \"))\n",
    "b=float(input(\"Nhập độ dài cạnh b: \"))\n",
    "c=float(input(\"Nhập độ dài cạnh c: \"))\n",
    "delta=b*b-4*a*c\n",
    "print(\"delta=\",abs(delta))\n",
    "print(\"delta=\",math.sqrt(abs(delta)))"
   ]
  },
  {
   "cell_type": "markdown",
   "id": "e2b41d4a",
   "metadata": {},
   "source": [
    "## Lab 1 - Bài 5: bài tập làm thêm"
   ]
  },
  {
   "cell_type": "code",
   "execution_count": 24,
   "id": "0e0172f7",
   "metadata": {},
   "outputs": [
    {
     "name": "stdout",
     "output_type": "stream",
     "text": [
      "Tổng a+b= 10.0\n",
      "Hiệu a-b= 0.0\n",
      "Tích a*b= 25.0\n",
      "Thương a/b= 1.0\n"
     ]
    }
   ],
   "source": [
    "# code lab 1  bài làm thêm ở đây \n",
    "a=float(input(\"Nhập a: \"))\n",
    "b=float(input(\"Nhập b: \"))\n",
    "#Cộng\n",
    "tong=a+b\n",
    "print(\"Tổng a+b=\",tong)\n",
    "#Trừ\n",
    "hieu=a-b\n",
    "print(\"Hiệu a-b=\",hieu)\n",
    "#Nhân\n",
    "tich=a*b\n",
    "print(\"Tích a*b=\",tich)\n",
    "#Chia\n",
    "thuong=a/b\n",
    "print(\"Thương a/b=\",thuong)"
   ]
  },
  {
   "cell_type": "code",
   "execution_count": 25,
   "id": "692396c1",
   "metadata": {},
   "outputs": [
    {
     "name": "stdout",
     "output_type": "stream",
     "text": [
      "Lũy thừa x^y= 3125.0\n"
     ]
    }
   ],
   "source": [
    "#Lũy thừa\n",
    "x=float(input(\"Nhập x: \"))\n",
    "y=float(input(\"Nhập y: \"))\n",
    "print(\"Lũy thừa x^y=\",x**y)"
   ]
  },
  {
   "cell_type": "code",
   "execution_count": 26,
   "id": "a1a66c8e",
   "metadata": {},
   "outputs": [
    {
     "name": "stdout",
     "output_type": "stream",
     "text": [
      "Căn bậc hai của x= 2.23606797749979\n"
     ]
    }
   ],
   "source": [
    "#Tính căn bậc hai của x\n",
    "import math\n",
    "x=float(input(\"Nhập x: \"))\n",
    "print(\"Căn bậc hai của x=\",math.sqrt(x))"
   ]
  },
  {
   "cell_type": "code",
   "execution_count": 27,
   "id": "70a9675e",
   "metadata": {},
   "outputs": [
    {
     "name": "stdout",
     "output_type": "stream",
     "text": [
      "sin: -0.3048106211022167\n",
      "cos: -0.9524129804151563\n",
      "tan: 0.320040389379563\n"
     ]
    }
   ],
   "source": [
    "#Hàm lượng giác\n",
    "import math\n",
    "goc_do=float(input(\"Nhập góc độ: \"))\n",
    "goc_rad=math.radians(goc_do)\n",
    "print(\"sin:\",math.sin(goc_do))\n",
    "print(\"cos:\",math.cos(goc_do))    \n",
    "print(\"tan:\",math.tan(goc_do))   "
   ]
  },
  {
   "cell_type": "code",
   "execution_count": 29,
   "id": "aa4b794a",
   "metadata": {},
   "outputs": [
    {
     "name": "stdout",
     "output_type": "stream",
     "text": [
      "log_60.0(5.0) = 0.3930880481540662\n"
     ]
    }
   ],
   "source": [
    "#Logarit\n",
    "import math\n",
    "x = float(input(\"Nhập số x: \"))\n",
    "base = float(input(\"Nhập cơ số: \"))\n",
    "log_value = math.log(x, base)\n",
    "print(f\"log_{base}({x}) = {log_value}\")"
   ]
  }
 ],
 "metadata": {
  "kernelspec": {
   "display_name": "Python 3",
   "language": "python",
   "name": "python3"
  },
  "language_info": {
   "codemirror_mode": {
    "name": "ipython",
    "version": 3
   },
   "file_extension": ".py",
   "mimetype": "text/x-python",
   "name": "python",
   "nbconvert_exporter": "python",
   "pygments_lexer": "ipython3",
   "version": "3.13.7"
  }
 },
 "nbformat": 4,
 "nbformat_minor": 5
}
