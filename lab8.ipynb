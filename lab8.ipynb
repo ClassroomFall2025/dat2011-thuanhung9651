{
 "cells": [
  {
   "cell_type": "markdown",
   "id": "fdeff819",
   "metadata": {},
   "source": [
    "# Sinh Viên thực hiện Lab 8 ở Đây"
   ]
  },
  {
   "cell_type": "markdown",
   "id": "acc5d7dc",
   "metadata": {},
   "source": [
    "## Lab 8 - Bài 1"
   ]
  },
  {
   "cell_type": "code",
   "execution_count": null,
   "id": "001e0507",
   "metadata": {},
   "outputs": [
    {
     "name": "stdout",
     "output_type": "stream",
     "text": [
      "Tên: HƯNG\n",
      "Họ: TRANG\n",
      "Tên đệm: THUẬN\n"
     ]
    }
   ],
   "source": [
    "# Code lab 8 bài 1 ở đây\n",
    "# Nhập họ và tên từ bàn phím. Xuất tên, họ và tên đệm ra màn hình trong đó tên và\n",
    "# họ xuất IN HOA.\n",
    "\n",
    "full_name = input(\"Nhập họ và tên: \").strip()\n",
    "name_parts = full_name.split()\n",
    "if len(name_parts) >= 2:\n",
    "    last_name = name_parts[0].upper()\n",
    "    first_name = name_parts[-1].upper()\n",
    "    middle_name = \" \".join(name_parts[1:-1])\n",
    "    print(f\"Tên: {first_name}\")\n",
    "    print(f\"Họ: {last_name}\")\n",
    "    print(f\"Tên đệm: {middle_name}\")\n",
    "else:\n",
    "    print(\"Vui lòng nhập đầy đủ họ và tên.\")"
   ]
  },
  {
   "cell_type": "markdown",
   "id": "c0835310",
   "metadata": {},
   "source": [
    "## Lab 8 - Bài 2"
   ]
  },
  {
   "cell_type": "code",
   "execution_count": 2,
   "id": "fa9cb39f",
   "metadata": {},
   "outputs": [
    {
     "name": "stdout",
     "output_type": "stream",
     "text": [
      "Thông tin sinh viên hợp lệ.\n"
     ]
    }
   ],
   "source": [
    "# Code lab 8  bài 2 ở đây\n",
    "import re\n",
    "student = {}\n",
    "student['full_name'] = input(\"Nhập họ và tên sinh viên: \").strip()\n",
    "student['email'] = input(\"Nhập email sinh viên: \").strip()\n",
    "student['phone'] = input(\"Nhập số điện thoại sinh viên: \").strip()\n",
    "student['cmnd'] = input(\"Nhập chứng minh nhân dân sinh viên: \").strip()\n",
    "# Kiểm tra email\n",
    "email_pattern = r'^[a-zA-Z0-9._%+-]+@[a-zA-Z0-9.-]+\\.[a-zA-Z]{2,}$'\n",
    "if not re.match(email_pattern, student['email']):\n",
    "    print(\"Email không đúng định dạng.\")\n",
    "# Kiểm tra số điện thoại\n",
    "phone_pattern = r'^\\d{10,11}$'\n",
    "if not re.match(phone_pattern, student['phone']):\n",
    "    print(\"Số điện thoại không đúng định dạng.\")\n",
    "# Kiểm tra CMND\n",
    "cmnd_pattern = r'^\\d{9}$|^\\d{12}$'\n",
    "if not re.match(cmnd_pattern, student['cmnd']):\n",
    "    print(\"Chứng minh nhân dân không đúng định dạng.\")\n",
    "# Nếu tất cả đúng định dạng\n",
    "if (re.match(email_pattern, student['email']) and\n",
    "    re.match(phone_pattern, student['phone']) and\n",
    "    re.match(cmnd_pattern, student['cmnd'])):\n",
    "    print(\"Thông tin sinh viên hợp lệ.\")"
   ]
  },
  {
   "cell_type": "markdown",
   "id": "0f2483fe",
   "metadata": {},
   "source": [
    "## Lab 8 - Bài 3"
   ]
  },
  {
   "cell_type": "code",
   "execution_count": 5,
   "id": "7034990b",
   "metadata": {},
   "outputs": [],
   "source": [
    "# Code lab 8  bài 3 ở đây\n",
    "import random\n",
    "with open(\"random_numbers.txt\", \"w\") as f:\n",
    "    random_numbers = [str(random.randint(0, 100)) for _ in range(1000000)]\n",
    "    f.write(\" \".join(random_numbers))"
   ]
  },
  {
   "cell_type": "markdown",
   "id": "d36ea3d3",
   "metadata": {},
   "source": [
    "## Lab 8 - Bài 4"
   ]
  },
  {
   "cell_type": "code",
   "execution_count": 7,
   "id": "4c707ec1",
   "metadata": {},
   "outputs": [
    {
     "name": "stdout",
     "output_type": "stream",
     "text": [
      "Trung bình: 49.991614\n",
      "Độ lệch chuẩn: 29.155543687620227\n"
     ]
    }
   ],
   "source": [
    "# code lab 8 bài 4 ở đây\n",
    "import statistics\n",
    "with open(\"random_numbers.txt\", \"r\") as f:\n",
    "    data = f.read().strip().split()\n",
    "    numbers = list(map(int, data))\n",
    "    mean_value = statistics.mean(numbers)\n",
    "    std_dev = statistics.stdev(numbers)\n",
    "    print(f\"Trung bình: {mean_value}\")\n",
    "    print(f\"Độ lệch chuẩn: {std_dev}\")"
   ]
  },
  {
   "cell_type": "markdown",
   "id": "e2b41d4a",
   "metadata": {},
   "source": [
    "## Lab 8 - Bài 5: bài tập làm thêm"
   ]
  },
  {
   "cell_type": "code",
   "execution_count": null,
   "id": "0e0172f7",
   "metadata": {},
   "outputs": [],
   "source": [
    "# code lab 8  bài làm thêm ở đây "
   ]
  }
 ],
 "metadata": {
  "kernelspec": {
   "display_name": "Python 3",
   "language": "python",
   "name": "python3"
  },
  "language_info": {
   "codemirror_mode": {
    "name": "ipython",
    "version": 3
   },
   "file_extension": ".py",
   "mimetype": "text/x-python",
   "name": "python",
   "nbconvert_exporter": "python",
   "pygments_lexer": "ipython3",
   "version": "3.13.7"
  }
 },
 "nbformat": 4,
 "nbformat_minor": 5
}
